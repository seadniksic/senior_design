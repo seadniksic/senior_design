{
 "cells": [
  {
   "cell_type": "code",
   "execution_count": 129,
   "metadata": {},
   "outputs": [],
   "source": [
    "import scipy.io as sio\n",
    "from PIL import Image\n",
    "import cv2\n",
    "import numpy as np"
   ]
  },
  {
   "cell_type": "code",
   "execution_count": 85,
   "metadata": {},
   "outputs": [],
   "source": [
    "IMAGE_PATH = \"data\\\\mpii\\\\images\\\\\"\n",
    "ANNOTATION_PATH = \"data\\\\mpii\\\\annotations\\\\mpii_human_pose_v1_u12_1.mat\"\n",
    "\n",
    "test = sio.loadmat(ANNOTATION_PATH)\n"
   ]
  },
  {
   "cell_type": "code",
   "execution_count": null,
   "metadata": {},
   "outputs": [],
   "source": [
    "count = 0\n",
    "weird_count = 0\n",
    "\n",
    "validated_images = {}\n",
    "\n",
    "for i, image in enumerate(test[\"RELEASE\"][\"annolist\"][0][0][0]):\n",
    "    try:\n",
    "        img_name = image[0][0][0][0][0]\n",
    "        length = len(image[1][0][0])\n",
    "\n",
    "        if length == 7:\n",
    "            person_annotation_list = []\n",
    "            for person_detected in image[1][0]:\n",
    "                person_annotation_list.append(person_detected)\n",
    "            \n",
    "            validated_images[img_name] = person_annotation_list\n",
    "            count += 1\n",
    "\n",
    "    except:\n",
    "        print(f\"number {i} failed\")\n",
    "\n",
    "\n",
    "print(count / 24987)"
   ]
  },
  {
   "attachments": {},
   "cell_type": "markdown",
   "metadata": {},
   "source": [
    "#### Show individual image with annotations"
   ]
  },
  {
   "cell_type": "code",
   "execution_count": null,
   "metadata": {},
   "outputs": [],
   "source": [
    "im = cv2.imread(IMAGE_PATH + \"096244729.jpg\")\n",
    "\n",
    "for person in validated_images[\"096244729.jpg\"]:\n",
    "    \n",
    "    print(person[4][0][0][0])\n",
    "    for a in person[4][0][0][0][0]:\n",
    "        \n",
    "        x = int(a[1][0])\n",
    "        y = int(a[2][0])\n",
    "\n",
    "\n",
    "        im = cv2.circle(im, (x,y), 5, (255, 0, 0), 1)\n",
    "        im = cv2.putText(im, f\"{a[0][0]}\", (x+5,y+5), cv2.FONT_HERSHEY_SIMPLEX, 1, (255, 0, 0), 2)\n",
    "    \n",
    "\n",
    "cv2.imshow('img', im)\n",
    "cv2.waitKey(0)\n"
   ]
  },
  {
   "attachments": {},
   "cell_type": "markdown",
   "metadata": {},
   "source": [
    "#### Show multiple images with annotations"
   ]
  },
  {
   "cell_type": "code",
   "execution_count": 130,
   "metadata": {},
   "outputs": [
    {
     "ename": "KeyboardInterrupt",
     "evalue": "",
     "output_type": "error",
     "traceback": [
      "\u001b[1;31m---------------------------------------------------------------------------\u001b[0m",
      "\u001b[1;31mKeyboardInterrupt\u001b[0m                         Traceback (most recent call last)",
      "Cell \u001b[1;32mIn[130], line 42\u001b[0m\n\u001b[0;32m     38\u001b[0m         im \u001b[39m=\u001b[39m cv2\u001b[39m.\u001b[39mputText(im, \u001b[39mf\u001b[39m\u001b[39m\"\u001b[39m\u001b[39m{\u001b[39;00mjoint_id\u001b[39m}\u001b[39;00m\u001b[39m\"\u001b[39m, (x\u001b[39m+\u001b[39m\u001b[39m5\u001b[39m,y\u001b[39m+\u001b[39m\u001b[39m5\u001b[39m), cv2\u001b[39m.\u001b[39mFONT_HERSHEY_SIMPLEX, \u001b[39m1\u001b[39m, (\u001b[39m255\u001b[39m, \u001b[39m0\u001b[39m, \u001b[39m0\u001b[39m), \u001b[39m2\u001b[39m)\n\u001b[0;32m     41\u001b[0m cv2\u001b[39m.\u001b[39mimshow(\u001b[39m'\u001b[39m\u001b[39mimg\u001b[39m\u001b[39m'\u001b[39m, im)\n\u001b[1;32m---> 42\u001b[0m cv2\u001b[39m.\u001b[39;49mwaitKey(\u001b[39m0\u001b[39;49m)\n",
      "\u001b[1;31mKeyboardInterrupt\u001b[0m: "
     ]
    }
   ],
   "source": [
    "\n",
    "for name, annotations in validated_images.items():\n",
    "\n",
    "    im = cv2.imread(IMAGE_PATH + name)\n",
    "    # print(len(annotations))\n",
    "    # print(name)\n",
    "\n",
    "    for person in annotations:\n",
    "\n",
    "        #Dataset has a random change in format for some samples. The off samples have the is_visible field (a[-1]) as an int.\n",
    "        #The correct ones have it as a string.  This detects which one it is and stores it in flag\n",
    "\n",
    "        for a in person[4][0][0][0][0]:\n",
    "            try:\n",
    "                flag = type(a[-1][0][0])\n",
    "                break\n",
    "            except:\n",
    "                continue\n",
    "    \n",
    "        for a in person[4][0][0][0][0]:\n",
    "\n",
    "            if flag == np.uint8:\n",
    "                x = int(a[0][0])\n",
    "                y = int(a[1][0])\n",
    "                joint_id = int(a[2][0])\n",
    "            else:\n",
    "                x = int(a[1][0])\n",
    "                y = int(a[2][0])\n",
    "                joint_id = int(a[0][0])\n",
    "\n",
    "            im = cv2.circle(im, (x,y), 5, (255, 0, 0), 1)\n",
    "            im = cv2.putText(im, f\"{joint_id}\", (x+5,y+5), cv2.FONT_HERSHEY_SIMPLEX, 1, (255, 0, 0), 2)\n",
    "    \n",
    "\n",
    "    cv2.imshow('img', im)\n",
    "    cv2.waitKey(0)"
   ]
  },
  {
   "cell_type": "code",
   "execution_count": null,
   "metadata": {},
   "outputs": [],
   "source": []
  }
 ],
 "metadata": {
  "kernelspec": {
   "display_name": "senior_design",
   "language": "python",
   "name": "python3"
  },
  "language_info": {
   "codemirror_mode": {
    "name": "ipython",
    "version": 3
   },
   "file_extension": ".py",
   "mimetype": "text/x-python",
   "name": "python",
   "nbconvert_exporter": "python",
   "pygments_lexer": "ipython3",
   "version": "3.9.0"
  },
  "orig_nbformat": 4
 },
 "nbformat": 4,
 "nbformat_minor": 2
}
