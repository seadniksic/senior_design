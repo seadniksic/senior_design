{
 "cells": [
  {
   "cell_type": "code",
   "execution_count": 1,
   "metadata": {},
   "outputs": [],
   "source": [
    "import scipy.io as sio\n",
    "from PIL import Image\n",
    "import cv2\n",
    "import numpy as np"
   ]
  },
  {
   "cell_type": "code",
   "execution_count": 3,
   "metadata": {},
   "outputs": [],
   "source": [
    "IMAGE_PATH = \"data\\\\mpii\\\\images\\\\\"\n",
    "ANNOTATION_PATH = \"data\\\\mpii\\\\raw_annotations\\\\mpii_human_pose_v1_u12_1.mat\"\n",
    "\n",
    "test = sio.loadmat(ANNOTATION_PATH)"
   ]
  },
  {
   "attachments": {},
   "cell_type": "markdown",
   "metadata": {},
   "source": [
    "#### Collect all valid image ids (parse through dataset)"
   ]
  },
  {
   "cell_type": "code",
   "execution_count": null,
   "metadata": {},
   "outputs": [],
   "source": [
    "count = 0\n",
    "weird_count = 0\n",
    "\n",
    "validated_images = {}\n",
    "\n",
    "for i, image in enumerate(test[\"RELEASE\"][\"annolist\"][0][0][0]):\n",
    "    try:\n",
    "        img_name = image[0][0][0][0][0]\n",
    "        length = len(image[1][0][0])\n",
    "\n",
    "        if length == 7:\n",
    "            person_annotation_list = []\n",
    "            for person_detected in image[1][0]:\n",
    "                person_annotation_list.append(person_detected)\n",
    "            \n",
    "            validated_images[img_name] = person_annotation_list\n",
    "            count += 1\n",
    "\n",
    "    except:\n",
    "        print(f\"number {i} failed\")\n",
    "\n",
    "\n",
    "print(count / 24987)"
   ]
  },
  {
   "attachments": {},
   "cell_type": "markdown",
   "metadata": {},
   "source": [
    "#### Show individual image with annotations"
   ]
  },
  {
   "cell_type": "code",
   "execution_count": null,
   "metadata": {},
   "outputs": [],
   "source": [
    "im = cv2.imread(IMAGE_PATH + \"096244729.jpg\")\n",
    "\n",
    "for person in validated_images[\"096244729.jpg\"]:\n",
    "    \n",
    "    print(person[4][0][0][0])\n",
    "    for a in person[4][0][0][0][0]:\n",
    "        \n",
    "        x = int(a[1][0])\n",
    "        y = int(a[2][0])\n",
    "\n",
    "\n",
    "        im = cv2.circle(im, (x,y), 5, (255, 0, 0), 1)\n",
    "        im = cv2.putText(im, f\"{a[0][0]}\", (x+5,y+5), cv2.FONT_HERSHEY_SIMPLEX, 1, (255, 0, 0), 2)\n",
    "    \n",
    "\n",
    "cv2.imshow('img', im)\n",
    "cv2.waitKey(0)\n"
   ]
  },
  {
   "attachments": {},
   "cell_type": "markdown",
   "metadata": {},
   "source": [
    "#### Show multiple images with annotations"
   ]
  },
  {
   "cell_type": "code",
   "execution_count": null,
   "metadata": {},
   "outputs": [],
   "source": [
    "\n",
    "for name, annotations in validated_images.items():\n",
    "\n",
    "    im = cv2.imread(IMAGE_PATH + name)\n",
    "    # print(len(annotations))\n",
    "    # print(name)\n",
    "\n",
    "    for person in annotations:\n",
    "\n",
    "        #Dataset has a random change in format for some samples. The off samples have the is_visible field (a[-1]) as an int.\n",
    "        #The correct ones have it as a string.  This detects which one it is and stores it in flag\n",
    "\n",
    "        for a in person[4][0][0][0][0]:\n",
    "            try:\n",
    "                flag = type(a[-1][0][0])\n",
    "                break\n",
    "            except:\n",
    "                continue\n",
    "    \n",
    "        for a in person[4][0][0][0][0]:\n",
    "\n",
    "            if flag == np.uint8:\n",
    "                x = int(a[0][0])\n",
    "                y = int(a[1][0])\n",
    "                joint_id = int(a[2][0])\n",
    "            else:\n",
    "                x = int(a[1][0])\n",
    "                y = int(a[2][0])\n",
    "                joint_id = int(a[0][0])\n",
    "\n",
    "            im = cv2.circle(im, (x,y), 5, (255, 0, 0), 1)\n",
    "            im = cv2.putText(im, f\"{joint_id}\", (x+5,y+5), cv2.FONT_HERSHEY_SIMPLEX, 1, (255, 0, 0), 2)\n",
    "    \n",
    "\n",
    "    cv2.imshow('img', im)\n",
    "    cv2.waitKey(0)"
   ]
  },
  {
   "attachments": {},
   "cell_type": "markdown",
   "metadata": {},
   "source": [
    "#### Split data to train and test and convert to format for reading by PyTorch dataset"
   ]
  },
  {
   "cell_type": "code",
   "execution_count": 12,
   "metadata": {},
   "outputs": [],
   "source": [
    "# Convert validate images dict to a format easier to wrap in PyTorch DataSet\n",
    "new_validated_images = { i: (j,k) for i, (j, k) in enumerate(validated_images.items())}\n",
    "\n",
    "#Shuffle keys and split into train test sets\n",
    "keys = list(new_validated_images.keys())\n",
    "shuffled_keys = np.random.permutation(keys)\n",
    "split_index = int(.8* len(shuffled_keys))\n",
    "train_indices = shuffled_keys[:split_index]\n",
    "test_indices = shuffled_keys[split_index:]\n",
    "\n",
    "train_annotations = {}\n",
    "test_annotations = {}\n",
    "\n",
    "for i in range(len(shuffled_keys)):\n",
    "    if i < split_index:\n",
    "        train_annotations[i] = new_validated_images[shuffled_keys[i]]\n",
    "    elif i >= split_index:\n",
    "        test_annotations[i - split_index] = new_validated_images[shuffled_keys[i]]\n"
   ]
  },
  {
   "cell_type": "code",
   "execution_count": 17,
   "metadata": {},
   "outputs": [],
   "source": [
    "import pickle\n",
    "\n",
    "with open(\"data\\\\mpii\\\\validated_annotations\\\\train_annotations.pkl\", \"wb\") as f:\n",
    "    pickle.dump(train_annotations, f)\n",
    "\n",
    "with open(\"data\\\\mpii\\\\validated_annotations\\\\test_annotations.pkl\", \"wb\") as f:\n",
    "    pickle.dump(test_annotations, f)"
   ]
  }
 ],
 "metadata": {
  "kernelspec": {
   "display_name": "senior_design",
   "language": "python",
   "name": "python3"
  },
  "language_info": {
   "codemirror_mode": {
    "name": "ipython",
    "version": 3
   },
   "file_extension": ".py",
   "mimetype": "text/x-python",
   "name": "python",
   "nbconvert_exporter": "python",
   "pygments_lexer": "ipython3",
   "version": "3.9.0"
  },
  "orig_nbformat": 4
 },
 "nbformat": 4,
 "nbformat_minor": 2
}
